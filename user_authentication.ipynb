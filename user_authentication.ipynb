{
 "cells": [
  {
   "cell_type": "code",
   "execution_count": 1,
   "metadata": {},
   "outputs": [],
   "source": [
    "import numpy as np\n",
    "import pandas as pd \n",
    "import matplotlib.pyplot as plt\n",
    "import seaborn as sns\n",
    "import warnings\n",
    "warnings.filterwarnings('ignore')"
   ]
  },
  {
   "cell_type": "code",
   "execution_count": 2,
   "metadata": {},
   "outputs": [
    {
     "data": {
      "text/html": [
       "<div>\n",
       "<style scoped>\n",
       "    .dataframe tbody tr th:only-of-type {\n",
       "        vertical-align: middle;\n",
       "    }\n",
       "\n",
       "    .dataframe tbody tr th {\n",
       "        vertical-align: top;\n",
       "    }\n",
       "\n",
       "    .dataframe thead th {\n",
       "        text-align: right;\n",
       "    }\n",
       "</style>\n",
       "<table border=\"1\" class=\"dataframe\">\n",
       "  <thead>\n",
       "    <tr style=\"text-align: right;\">\n",
       "      <th></th>\n",
       "      <th>Patient_ID</th>\n",
       "      <th>Patient_Name</th>\n",
       "      <th>Date_of_Birth</th>\n",
       "      <th>Gender</th>\n",
       "      <th>Legal_Requirements</th>\n",
       "      <th>Privacy_Regulations</th>\n",
       "      <th>Data_Ownership</th>\n",
       "      <th>Security_Risks</th>\n",
       "      <th>Access_Control</th>\n",
       "      <th>Punishments_for_Violations</th>\n",
       "      <th>Proprietary_Tools</th>\n",
       "      <th>User_Access_Procedures</th>\n",
       "      <th>User_Is_Authenticated</th>\n",
       "      <th>Last_Visit</th>\n",
       "    </tr>\n",
       "  </thead>\n",
       "  <tbody>\n",
       "    <tr>\n",
       "      <th>0</th>\n",
       "      <td>344</td>\n",
       "      <td>Kimberly Lutz</td>\n",
       "      <td>1951-04-14</td>\n",
       "      <td>Male</td>\n",
       "      <td>Local Data Protection Laws</td>\n",
       "      <td>Data Encryption Standards</td>\n",
       "      <td>Healthcare Organization</td>\n",
       "      <td>Data Corruption</td>\n",
       "      <td>Attribute-Based Access Control</td>\n",
       "      <td>Legal Action</td>\n",
       "      <td>Encryption Software</td>\n",
       "      <td>Two-Factor Authentication</td>\n",
       "      <td>Not Authenticated</td>\n",
       "      <td>2024-07-08</td>\n",
       "    </tr>\n",
       "    <tr>\n",
       "      <th>1</th>\n",
       "      <td>540</td>\n",
       "      <td>Sharon Tyler</td>\n",
       "      <td>1964-10-01</td>\n",
       "      <td>Male</td>\n",
       "      <td>International Standards</td>\n",
       "      <td>Anonymization</td>\n",
       "      <td>Shared</td>\n",
       "      <td>Data Corruption</td>\n",
       "      <td>Attribute-Based Access Control</td>\n",
       "      <td>Legal Action</td>\n",
       "      <td>Secure Messaging Platforms</td>\n",
       "      <td>Secure Login</td>\n",
       "      <td>Not Authenticated</td>\n",
       "      <td>2023-05-14</td>\n",
       "    </tr>\n",
       "    <tr>\n",
       "      <th>2</th>\n",
       "      <td>398</td>\n",
       "      <td>Olivia Clay</td>\n",
       "      <td>1987-04-04</td>\n",
       "      <td>Female</td>\n",
       "      <td>GDPR Compliance</td>\n",
       "      <td>Confidentiality Agreements</td>\n",
       "      <td>Patient</td>\n",
       "      <td>Data Corruption</td>\n",
       "      <td>Role-Based Access Control</td>\n",
       "      <td>Reputational Damage</td>\n",
       "      <td>Proprietary EHR Systems</td>\n",
       "      <td>Secure Login</td>\n",
       "      <td>Authentication</td>\n",
       "      <td>2022-12-08</td>\n",
       "    </tr>\n",
       "    <tr>\n",
       "      <th>3</th>\n",
       "      <td>1976</td>\n",
       "      <td>Marvin Wood</td>\n",
       "      <td>1951-01-20</td>\n",
       "      <td>Female</td>\n",
       "      <td>International Standards</td>\n",
       "      <td>Confidentiality Agreements</td>\n",
       "      <td>Patient</td>\n",
       "      <td>Data Breach</td>\n",
       "      <td>Role-Based Access Control</td>\n",
       "      <td>Fines</td>\n",
       "      <td>Proprietary EHR Systems</td>\n",
       "      <td>Access Logs</td>\n",
       "      <td>Authentication</td>\n",
       "      <td>2023-07-11</td>\n",
       "    </tr>\n",
       "    <tr>\n",
       "      <th>4</th>\n",
       "      <td>1204</td>\n",
       "      <td>Sara Moreno</td>\n",
       "      <td>1957-10-08</td>\n",
       "      <td>Male</td>\n",
       "      <td>HIPAA Compliance</td>\n",
       "      <td>Data Encryption Standards</td>\n",
       "      <td>Shared</td>\n",
       "      <td>Data Breach</td>\n",
       "      <td>Role-Based Access Control</td>\n",
       "      <td>Fines</td>\n",
       "      <td>Proprietary EHR Systems</td>\n",
       "      <td>Access Logs</td>\n",
       "      <td>Authentication</td>\n",
       "      <td>2023-03-20</td>\n",
       "    </tr>\n",
       "  </tbody>\n",
       "</table>\n",
       "</div>"
      ],
      "text/plain": [
       "   Patient_ID   Patient_Name Date_of_Birth  Gender  \\\n",
       "0         344  Kimberly Lutz    1951-04-14    Male   \n",
       "1         540   Sharon Tyler    1964-10-01    Male   \n",
       "2         398    Olivia Clay    1987-04-04  Female   \n",
       "3        1976    Marvin Wood    1951-01-20  Female   \n",
       "4        1204    Sara Moreno    1957-10-08    Male   \n",
       "\n",
       "           Legal_Requirements         Privacy_Regulations  \\\n",
       "0  Local Data Protection Laws   Data Encryption Standards   \n",
       "1     International Standards               Anonymization   \n",
       "2             GDPR Compliance  Confidentiality Agreements   \n",
       "3     International Standards  Confidentiality Agreements   \n",
       "4            HIPAA Compliance   Data Encryption Standards   \n",
       "\n",
       "            Data_Ownership   Security_Risks                  Access_Control  \\\n",
       "0  Healthcare Organization  Data Corruption  Attribute-Based Access Control   \n",
       "1                   Shared  Data Corruption  Attribute-Based Access Control   \n",
       "2                  Patient  Data Corruption       Role-Based Access Control   \n",
       "3                  Patient      Data Breach       Role-Based Access Control   \n",
       "4                   Shared      Data Breach       Role-Based Access Control   \n",
       "\n",
       "  Punishments_for_Violations           Proprietary_Tools  \\\n",
       "0               Legal Action         Encryption Software   \n",
       "1               Legal Action  Secure Messaging Platforms   \n",
       "2        Reputational Damage     Proprietary EHR Systems   \n",
       "3                      Fines     Proprietary EHR Systems   \n",
       "4                      Fines     Proprietary EHR Systems   \n",
       "\n",
       "      User_Access_Procedures User_Is_Authenticated  Last_Visit  \n",
       "0  Two-Factor Authentication     Not Authenticated  2024-07-08  \n",
       "1               Secure Login     Not Authenticated  2023-05-14  \n",
       "2               Secure Login        Authentication  2022-12-08  \n",
       "3                Access Logs        Authentication  2023-07-11  \n",
       "4                Access Logs        Authentication  2023-03-20  "
      ]
     },
     "execution_count": 2,
     "metadata": {},
     "output_type": "execute_result"
    }
   ],
   "source": [
    "ehl = pd.read_csv(\"/Users/ikubannipaul/Documents/codes/data_science/ml/evaxion/python_analysis/new_ehl_data.csv\")\n",
    "\n",
    "ehl.head()"
   ]
  },
  {
   "cell_type": "code",
   "execution_count": 3,
   "metadata": {},
   "outputs": [
    {
     "data": {
      "text/plain": [
       "User_Is_Authenticated\n",
       "Authentication       1520\n",
       "Not Authenticated    1453\n",
       "Name: count, dtype: int64"
      ]
     },
     "execution_count": 3,
     "metadata": {},
     "output_type": "execute_result"
    }
   ],
   "source": [
    "ehl[\"User_Is_Authenticated\"].value_counts()"
   ]
  },
  {
   "cell_type": "code",
   "execution_count": 4,
   "metadata": {},
   "outputs": [],
   "source": [
    "from sklearn.preprocessing import LabelEncoder"
   ]
  },
  {
   "cell_type": "code",
   "execution_count": 5,
   "metadata": {},
   "outputs": [
    {
     "data": {
      "text/plain": [
       "Index(['Patient_ID', 'Patient_Name', 'Date_of_Birth', 'Gender',\n",
       "       'Legal_Requirements', 'Privacy_Regulations', 'Data_Ownership',\n",
       "       'Security_Risks', 'Access_Control', 'Punishments_for_Violations',\n",
       "       'Proprietary_Tools', 'User_Access_Procedures', 'User_Is_Authenticated',\n",
       "       'Last_Visit'],\n",
       "      dtype='object')"
      ]
     },
     "execution_count": 5,
     "metadata": {},
     "output_type": "execute_result"
    }
   ],
   "source": [
    "ehl.columns\n"
   ]
  },
  {
   "cell_type": "code",
   "execution_count": 6,
   "metadata": {},
   "outputs": [],
   "source": [
    "le = LabelEncoder()\n",
    "ehl[\"Gender\"] = le.fit_transform(ehl[\"Gender\"])\n",
    "ehl[\"Legal_Requirements\"] = le.fit_transform(ehl[\"Legal_Requirements\"])\n",
    "ehl[\"Privacy_Regulations\"] = le.fit_transform(ehl[\"Privacy_Regulations\"])\n",
    "ehl[\"Data_Ownership\"] = le.fit_transform(ehl[\"Data_Ownership\"])\n",
    "ehl[\"Security_Risks\"] = le.fit_transform(ehl[\"Security_Risks\"])\n",
    "ehl[\"Access_Control\"] = le.fit_transform(ehl[\"Access_Control\"])\n",
    "ehl[\"Punishments_for_Violations\"] = le.fit_transform(ehl[\"Punishments_for_Violations\"])\n",
    "ehl[\"Proprietary_Tools\"] = le.fit_transform(ehl['Proprietary_Tools'])\n",
    "ehl[\"User_Access_Procedures\"] = le.fit_transform(ehl[\"User_Access_Procedures\"])"
   ]
  },
  {
   "cell_type": "code",
   "execution_count": 7,
   "metadata": {},
   "outputs": [
    {
     "data": {
      "text/plain": [
       "array(['Not Authenticated', 'Authentication'], dtype=object)"
      ]
     },
     "execution_count": 7,
     "metadata": {},
     "output_type": "execute_result"
    }
   ],
   "source": [
    "ehl[\"User_Is_Authenticated\"].unique()\n"
   ]
  },
  {
   "cell_type": "code",
   "execution_count": 8,
   "metadata": {},
   "outputs": [],
   "source": [
    "ehl[\"User_Is_Authenticated\"] = ehl[\"User_Is_Authenticated\"].map({'Not Authenticated':0, 'Authentication':1})"
   ]
  },
  {
   "cell_type": "code",
   "execution_count": 9,
   "metadata": {},
   "outputs": [
    {
     "data": {
      "text/html": [
       "<div>\n",
       "<style scoped>\n",
       "    .dataframe tbody tr th:only-of-type {\n",
       "        vertical-align: middle;\n",
       "    }\n",
       "\n",
       "    .dataframe tbody tr th {\n",
       "        vertical-align: top;\n",
       "    }\n",
       "\n",
       "    .dataframe thead th {\n",
       "        text-align: right;\n",
       "    }\n",
       "</style>\n",
       "<table border=\"1\" class=\"dataframe\">\n",
       "  <thead>\n",
       "    <tr style=\"text-align: right;\">\n",
       "      <th></th>\n",
       "      <th>Patient_ID</th>\n",
       "      <th>Patient_Name</th>\n",
       "      <th>Date_of_Birth</th>\n",
       "      <th>Gender</th>\n",
       "      <th>Legal_Requirements</th>\n",
       "      <th>Privacy_Regulations</th>\n",
       "      <th>Data_Ownership</th>\n",
       "      <th>Security_Risks</th>\n",
       "      <th>Access_Control</th>\n",
       "      <th>Punishments_for_Violations</th>\n",
       "      <th>Proprietary_Tools</th>\n",
       "      <th>User_Access_Procedures</th>\n",
       "      <th>User_Is_Authenticated</th>\n",
       "      <th>Last_Visit</th>\n",
       "    </tr>\n",
       "  </thead>\n",
       "  <tbody>\n",
       "    <tr>\n",
       "      <th>0</th>\n",
       "      <td>344</td>\n",
       "      <td>Kimberly Lutz</td>\n",
       "      <td>1951-04-14</td>\n",
       "      <td>1</td>\n",
       "      <td>3</td>\n",
       "      <td>3</td>\n",
       "      <td>0</td>\n",
       "      <td>1</td>\n",
       "      <td>0</td>\n",
       "      <td>1</td>\n",
       "      <td>1</td>\n",
       "      <td>2</td>\n",
       "      <td>0</td>\n",
       "      <td>2024-07-08</td>\n",
       "    </tr>\n",
       "    <tr>\n",
       "      <th>1</th>\n",
       "      <td>540</td>\n",
       "      <td>Sharon Tyler</td>\n",
       "      <td>1964-10-01</td>\n",
       "      <td>1</td>\n",
       "      <td>2</td>\n",
       "      <td>1</td>\n",
       "      <td>3</td>\n",
       "      <td>1</td>\n",
       "      <td>0</td>\n",
       "      <td>1</td>\n",
       "      <td>3</td>\n",
       "      <td>1</td>\n",
       "      <td>0</td>\n",
       "      <td>2023-05-14</td>\n",
       "    </tr>\n",
       "    <tr>\n",
       "      <th>2</th>\n",
       "      <td>398</td>\n",
       "      <td>Olivia Clay</td>\n",
       "      <td>1987-04-04</td>\n",
       "      <td>0</td>\n",
       "      <td>0</td>\n",
       "      <td>2</td>\n",
       "      <td>2</td>\n",
       "      <td>1</td>\n",
       "      <td>2</td>\n",
       "      <td>2</td>\n",
       "      <td>2</td>\n",
       "      <td>1</td>\n",
       "      <td>1</td>\n",
       "      <td>2022-12-08</td>\n",
       "    </tr>\n",
       "    <tr>\n",
       "      <th>3</th>\n",
       "      <td>1976</td>\n",
       "      <td>Marvin Wood</td>\n",
       "      <td>1951-01-20</td>\n",
       "      <td>0</td>\n",
       "      <td>2</td>\n",
       "      <td>2</td>\n",
       "      <td>2</td>\n",
       "      <td>0</td>\n",
       "      <td>2</td>\n",
       "      <td>0</td>\n",
       "      <td>2</td>\n",
       "      <td>0</td>\n",
       "      <td>1</td>\n",
       "      <td>2023-07-11</td>\n",
       "    </tr>\n",
       "    <tr>\n",
       "      <th>4</th>\n",
       "      <td>1204</td>\n",
       "      <td>Sara Moreno</td>\n",
       "      <td>1957-10-08</td>\n",
       "      <td>1</td>\n",
       "      <td>1</td>\n",
       "      <td>3</td>\n",
       "      <td>3</td>\n",
       "      <td>0</td>\n",
       "      <td>2</td>\n",
       "      <td>0</td>\n",
       "      <td>2</td>\n",
       "      <td>0</td>\n",
       "      <td>1</td>\n",
       "      <td>2023-03-20</td>\n",
       "    </tr>\n",
       "  </tbody>\n",
       "</table>\n",
       "</div>"
      ],
      "text/plain": [
       "   Patient_ID   Patient_Name Date_of_Birth  Gender  Legal_Requirements  \\\n",
       "0         344  Kimberly Lutz    1951-04-14       1                   3   \n",
       "1         540   Sharon Tyler    1964-10-01       1                   2   \n",
       "2         398    Olivia Clay    1987-04-04       0                   0   \n",
       "3        1976    Marvin Wood    1951-01-20       0                   2   \n",
       "4        1204    Sara Moreno    1957-10-08       1                   1   \n",
       "\n",
       "   Privacy_Regulations  Data_Ownership  Security_Risks  Access_Control  \\\n",
       "0                    3               0               1               0   \n",
       "1                    1               3               1               0   \n",
       "2                    2               2               1               2   \n",
       "3                    2               2               0               2   \n",
       "4                    3               3               0               2   \n",
       "\n",
       "   Punishments_for_Violations  Proprietary_Tools  User_Access_Procedures  \\\n",
       "0                           1                  1                       2   \n",
       "1                           1                  3                       1   \n",
       "2                           2                  2                       1   \n",
       "3                           0                  2                       0   \n",
       "4                           0                  2                       0   \n",
       "\n",
       "   User_Is_Authenticated  Last_Visit  \n",
       "0                      0  2024-07-08  \n",
       "1                      0  2023-05-14  \n",
       "2                      1  2022-12-08  \n",
       "3                      1  2023-07-11  \n",
       "4                      1  2023-03-20  "
      ]
     },
     "execution_count": 9,
     "metadata": {},
     "output_type": "execute_result"
    }
   ],
   "source": [
    "ehl.head()"
   ]
  },
  {
   "cell_type": "code",
   "execution_count": 17,
   "metadata": {},
   "outputs": [],
   "source": [
    "X = ehl.drop(columns=[\"Date_of_Birth\", \"Patient_Name\", \"Patient_ID\", \"Last_Visit\", \"User_Is_Authenticated\"])\n",
    "y = ehl[\"User_Is_Authenticated\"]"
   ]
  },
  {
   "cell_type": "code",
   "execution_count": 18,
   "metadata": {},
   "outputs": [],
   "source": [
    "from sklearn.model_selection import train_test_split\n",
    "from sklearn.svm import SVC\n",
    "from sklearn.metrics import accuracy_score"
   ]
  },
  {
   "cell_type": "code",
   "execution_count": 19,
   "metadata": {},
   "outputs": [
    {
     "name": "stdout",
     "output_type": "stream",
     "text": [
      "0.4857142857142857\n"
     ]
    }
   ],
   "source": [
    "X_train, X_test, y_train, y_test = train_test_split(X, y, test_size=0.2,random_state=42)\n",
    "sv = SVC()\n",
    "\n",
    "model = sv.fit(X_train, y_train)\n",
    "pre = model.predict(X_test)\n",
    "acc = accuracy_score(pre, y_test)\n",
    "print(acc)"
   ]
  },
  {
   "cell_type": "code",
   "execution_count": 37,
   "metadata": {},
   "outputs": [
    {
     "data": {
      "text/plain": [
       "0.48403361344537815"
      ]
     },
     "execution_count": 37,
     "metadata": {},
     "output_type": "execute_result"
    }
   ],
   "source": [
    "#feature selection\n",
    "from sklearn.feature_selection import SelectKBest, chi2\n",
    "selector = SelectKBest(chi2, k = 5)\n",
    "X_train_selected = selector.fit_transform(X_train, y_train)\n",
    "X_test_selected = selector.transform(X_test)\n",
    "\n",
    "svm = SVC(kernel='linear', C=1)\n",
    "svm.fit(X_train_selected, y_train)\n",
    "\n",
    "pre_new = svm.predict(X_test_selected)\n",
    "acc1 = accuracy_score(y_test, pre_new)\n",
    "\n",
    "acc1"
   ]
  },
  {
   "cell_type": "code",
   "execution_count": 34,
   "metadata": {},
   "outputs": [
    {
     "name": "stdout",
     "output_type": "stream",
     "text": [
      "0.5092436974789916\n"
     ]
    }
   ],
   "source": [
    "from sklearn.ensemble import RandomForestClassifier\n",
    "\n",
    "rf = RandomForestClassifier()\n",
    "model = rf.fit(X_train, y_train)\n",
    "pre2= model.predict(X_test)\n",
    "acc = accuracy_score(pre2, y_test)\n",
    "print(acc)"
   ]
  },
  {
   "cell_type": "code",
   "execution_count": 35,
   "metadata": {},
   "outputs": [
    {
     "name": "stdout",
     "output_type": "stream",
     "text": [
      "0.4773109243697479\n"
     ]
    }
   ],
   "source": [
    "from sklearn.linear_model import LogisticRegression\n",
    "\n",
    "lr = LogisticRegression()\n",
    "model = lr.fit(X_train, y_train)\n",
    "pre3 = model.predict(X_test)\n",
    "acc = accuracy_score(pre3, y_test)\n",
    "print(acc)"
   ]
  },
  {
   "cell_type": "code",
   "execution_count": 36,
   "metadata": {},
   "outputs": [
    {
     "name": "stdout",
     "output_type": "stream",
     "text": [
      "0.5025210084033613\n"
     ]
    }
   ],
   "source": [
    "from sklearn.tree import DecisionTreeClassifier\n",
    "\n",
    "dt = DecisionTreeClassifier()\n",
    "model = dt.fit(X_train, y_train)\n",
    "pre4 = model.predict(X_test)\n",
    "acc = accuracy_score(pre4, y_test)\n",
    "print(acc)"
   ]
  }
 ],
 "metadata": {
  "kernelspec": {
   "display_name": "Python 3",
   "language": "python",
   "name": "python3"
  },
  "language_info": {
   "codemirror_mode": {
    "name": "ipython",
    "version": 3
   },
   "file_extension": ".py",
   "mimetype": "text/x-python",
   "name": "python",
   "nbconvert_exporter": "python",
   "pygments_lexer": "ipython3",
   "version": "3.10.4"
  }
 },
 "nbformat": 4,
 "nbformat_minor": 2
}
