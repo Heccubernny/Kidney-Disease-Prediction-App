{
 "cells": [
  {
   "cell_type": "code",
   "execution_count": 1,
   "metadata": {},
   "outputs": [],
   "source": [
    "import pandas as pd\n",
    "from sklearn.preprocessing import LabelEncoder, StandardScaler\n",
    "from sklearn.model_selection import train_test_split\n",
    "from sklearn.ensemble import IsolationForest\n",
    "import matplotlib.pyplot as plt\n",
    "from sklearn.metrics import classification_report, accuracy_score\n",
    "from sklearn.svm import SVC\n",
    "from sklearn.pipeline import Pipeline\n",
    "from sklearn.compose import ColumnTransformer\n",
    "import re\n",
    "from sklearn.feature_extraction.text import CountVectorizer\n",
    "from sklearn.naive_bayes import MultinomialNB, GaussianNB\n",
    "from nltk.corpus import stopwords\n",
    "from nltk.tokenize import word_tokenize\n",
    "import nltk\n",
    "import warnings\n",
    "warnings.filterwarnings('ignore')"
   ]
  },
  {
   "cell_type": "code",
   "execution_count": 2,
   "metadata": {},
   "outputs": [],
   "source": [
    "df = pd.read_csv('ehl_data.csv')"
   ]
  },
  {
   "cell_type": "code",
   "execution_count": 3,
   "metadata": {},
   "outputs": [
    {
     "data": {
      "text/plain": [
       "Legal_Requirements\n",
       "HIPAA Compliance              779\n",
       "GDPR Compliance               747\n",
       "International Standards       708\n",
       "Local Data Protection Laws    702\n",
       "Name: count, dtype: int64"
      ]
     },
     "execution_count": 3,
     "metadata": {},
     "output_type": "execute_result"
    }
   ],
   "source": [
    "df['Legal_Requirements'].value_counts()"
   ]
  },
  {
   "cell_type": "markdown",
   "metadata": {},
   "source": [
    "### Understanding the Dataset & Data Cleaning"
   ]
  },
  {
   "cell_type": "code",
   "execution_count": 4,
   "metadata": {},
   "outputs": [
    {
     "data": {
      "text/html": [
       "<div>\n",
       "<style scoped>\n",
       "    .dataframe tbody tr th:only-of-type {\n",
       "        vertical-align: middle;\n",
       "    }\n",
       "\n",
       "    .dataframe tbody tr th {\n",
       "        vertical-align: top;\n",
       "    }\n",
       "\n",
       "    .dataframe thead th {\n",
       "        text-align: right;\n",
       "    }\n",
       "</style>\n",
       "<table border=\"1\" class=\"dataframe\">\n",
       "  <thead>\n",
       "    <tr style=\"text-align: right;\">\n",
       "      <th></th>\n",
       "      <th>Patient_ID</th>\n",
       "      <th>Patient_Name</th>\n",
       "      <th>Date_of_Birth</th>\n",
       "      <th>Gender</th>\n",
       "      <th>Legal_Requirements</th>\n",
       "      <th>Privacy_Regulations</th>\n",
       "      <th>Data_Ownership</th>\n",
       "      <th>Security_Risks</th>\n",
       "      <th>Access_Control</th>\n",
       "      <th>Punishments_for_Violations</th>\n",
       "      <th>Proprietary_Tools</th>\n",
       "      <th>User_Access_Procedures</th>\n",
       "      <th>Last_Visit</th>\n",
       "    </tr>\n",
       "  </thead>\n",
       "  <tbody>\n",
       "    <tr>\n",
       "      <th>0</th>\n",
       "      <td>1881</td>\n",
       "      <td>Andrew Clark</td>\n",
       "      <td>1971-07-04</td>\n",
       "      <td>Female</td>\n",
       "      <td>HIPAA Compliance</td>\n",
       "      <td>Confidentiality Agreements</td>\n",
       "      <td>Healthcare Provider</td>\n",
       "      <td>Unauthorized Access</td>\n",
       "      <td>Discretionary Access Control</td>\n",
       "      <td>Fines</td>\n",
       "      <td>Secure Messaging Platforms</td>\n",
       "      <td>Access Logs</td>\n",
       "      <td>2022-11-25</td>\n",
       "    </tr>\n",
       "    <tr>\n",
       "      <th>1</th>\n",
       "      <td>2899</td>\n",
       "      <td>Jonathan Barajas</td>\n",
       "      <td>1937-11-24</td>\n",
       "      <td>Male</td>\n",
       "      <td>GDPR Compliance</td>\n",
       "      <td>Anonymization</td>\n",
       "      <td>Shared</td>\n",
       "      <td>Data Corruption</td>\n",
       "      <td>Discretionary Access Control</td>\n",
       "      <td>Revocation of Access</td>\n",
       "      <td>Proprietary EHR Systems</td>\n",
       "      <td>Two-Factor Authentication</td>\n",
       "      <td>2023-01-02</td>\n",
       "    </tr>\n",
       "    <tr>\n",
       "      <th>2</th>\n",
       "      <td>1204</td>\n",
       "      <td>Kevin King</td>\n",
       "      <td>1942-01-02</td>\n",
       "      <td>Male</td>\n",
       "      <td>International Standards</td>\n",
       "      <td>Confidentiality Agreements</td>\n",
       "      <td>Patient</td>\n",
       "      <td>Data Breach</td>\n",
       "      <td>Discretionary Access Control</td>\n",
       "      <td>Revocation of Access</td>\n",
       "      <td>Secure Messaging Platforms</td>\n",
       "      <td>Access Logs</td>\n",
       "      <td>2023-10-25</td>\n",
       "    </tr>\n",
       "    <tr>\n",
       "      <th>3</th>\n",
       "      <td>2407</td>\n",
       "      <td>Hannah Horn</td>\n",
       "      <td>1944-11-18</td>\n",
       "      <td>Female</td>\n",
       "      <td>International Standards</td>\n",
       "      <td>Anonymization</td>\n",
       "      <td>Patient</td>\n",
       "      <td>Unauthorized Access</td>\n",
       "      <td>Discretionary Access Control</td>\n",
       "      <td>Fines</td>\n",
       "      <td>Secure Messaging Platforms</td>\n",
       "      <td>Secure Login</td>\n",
       "      <td>2023-01-11</td>\n",
       "    </tr>\n",
       "    <tr>\n",
       "      <th>4</th>\n",
       "      <td>966</td>\n",
       "      <td>Jill Harris</td>\n",
       "      <td>1951-07-22</td>\n",
       "      <td>Male</td>\n",
       "      <td>HIPAA Compliance</td>\n",
       "      <td>Data Encryption Standards</td>\n",
       "      <td>Shared</td>\n",
       "      <td>Data Breach</td>\n",
       "      <td>Attribute-Based Access Control</td>\n",
       "      <td>Fines</td>\n",
       "      <td>Secure Messaging Platforms</td>\n",
       "      <td>User Training</td>\n",
       "      <td>2023-09-28</td>\n",
       "    </tr>\n",
       "  </tbody>\n",
       "</table>\n",
       "</div>"
      ],
      "text/plain": [
       "   Patient_ID      Patient_Name Date_of_Birth  Gender  \\\n",
       "0        1881      Andrew Clark    1971-07-04  Female   \n",
       "1        2899  Jonathan Barajas    1937-11-24    Male   \n",
       "2        1204        Kevin King    1942-01-02    Male   \n",
       "3        2407       Hannah Horn    1944-11-18  Female   \n",
       "4         966       Jill Harris    1951-07-22    Male   \n",
       "\n",
       "        Legal_Requirements         Privacy_Regulations       Data_Ownership  \\\n",
       "0         HIPAA Compliance  Confidentiality Agreements  Healthcare Provider   \n",
       "1          GDPR Compliance               Anonymization               Shared   \n",
       "2  International Standards  Confidentiality Agreements              Patient   \n",
       "3  International Standards               Anonymization              Patient   \n",
       "4         HIPAA Compliance   Data Encryption Standards               Shared   \n",
       "\n",
       "        Security_Risks                  Access_Control  \\\n",
       "0  Unauthorized Access    Discretionary Access Control   \n",
       "1      Data Corruption    Discretionary Access Control   \n",
       "2          Data Breach    Discretionary Access Control   \n",
       "3  Unauthorized Access    Discretionary Access Control   \n",
       "4          Data Breach  Attribute-Based Access Control   \n",
       "\n",
       "  Punishments_for_Violations           Proprietary_Tools  \\\n",
       "0                      Fines  Secure Messaging Platforms   \n",
       "1       Revocation of Access     Proprietary EHR Systems   \n",
       "2       Revocation of Access  Secure Messaging Platforms   \n",
       "3                      Fines  Secure Messaging Platforms   \n",
       "4                      Fines  Secure Messaging Platforms   \n",
       "\n",
       "      User_Access_Procedures  Last_Visit  \n",
       "0                Access Logs  2022-11-25  \n",
       "1  Two-Factor Authentication  2023-01-02  \n",
       "2                Access Logs  2023-10-25  \n",
       "3               Secure Login  2023-01-11  \n",
       "4              User Training  2023-09-28  "
      ]
     },
     "execution_count": 4,
     "metadata": {},
     "output_type": "execute_result"
    }
   ],
   "source": [
    "df.head()"
   ]
  },
  {
   "cell_type": "code",
   "execution_count": 5,
   "metadata": {},
   "outputs": [
    {
     "name": "stdout",
     "output_type": "stream",
     "text": [
      "<class 'pandas.core.frame.DataFrame'>\n",
      "RangeIndex: 2936 entries, 0 to 2935\n",
      "Data columns (total 13 columns):\n",
      " #   Column                      Non-Null Count  Dtype \n",
      "---  ------                      --------------  ----- \n",
      " 0   Patient_ID                  2936 non-null   int64 \n",
      " 1   Patient_Name                2936 non-null   object\n",
      " 2   Date_of_Birth               2936 non-null   object\n",
      " 3   Gender                      2936 non-null   object\n",
      " 4   Legal_Requirements          2936 non-null   object\n",
      " 5   Privacy_Regulations         2936 non-null   object\n",
      " 6   Data_Ownership              2936 non-null   object\n",
      " 7   Security_Risks              2936 non-null   object\n",
      " 8   Access_Control              2936 non-null   object\n",
      " 9   Punishments_for_Violations  2936 non-null   object\n",
      " 10  Proprietary_Tools           2936 non-null   object\n",
      " 11  User_Access_Procedures      2936 non-null   object\n",
      " 12  Last_Visit                  2936 non-null   object\n",
      "dtypes: int64(1), object(12)\n",
      "memory usage: 298.3+ KB\n"
     ]
    }
   ],
   "source": [
    "df.info()"
   ]
  },
  {
   "cell_type": "code",
   "execution_count": 6,
   "metadata": {},
   "outputs": [
    {
     "name": "stdout",
     "output_type": "stream",
     "text": [
      "The shape of the data is (2936, 13)\n"
     ]
    }
   ],
   "source": [
    "print(f\"The shape of the data is {df.shape}\")"
   ]
  },
  {
   "cell_type": "code",
   "execution_count": 7,
   "metadata": {},
   "outputs": [],
   "source": [
    "df.drop_duplicates(inplace=True)"
   ]
  },
  {
   "cell_type": "code",
   "execution_count": 8,
   "metadata": {},
   "outputs": [],
   "source": [
    "df['Date_of_Birth'] = pd.to_datetime(df['Date_of_Birth'], format='%Y-%m-%d')\n",
    "df['Age'] = (pd.Timestamp.now().normalize() - df['Date_of_Birth']).dt.days // 365\n",
    "\n",
    "df['Legal_Requirements'] = df['Legal_Requirements'].astype('category')\n",
    "df['Privacy_Regulations'] = df['Privacy_Regulations'].astype('category')\n",
    "df['Gender'] = df['Gender'].map({'Male': 0, 'Female': 1})\n",
    "\n",
    "df.drop(columns=[\"Patient_Name\"], inplace=True)\n"
   ]
  },
  {
   "cell_type": "code",
   "execution_count": 9,
   "metadata": {},
   "outputs": [
    {
     "name": "stdout",
     "output_type": "stream",
     "text": [
      "<class 'pandas.core.frame.DataFrame'>\n",
      "RangeIndex: 2936 entries, 0 to 2935\n",
      "Data columns (total 13 columns):\n",
      " #   Column                      Non-Null Count  Dtype         \n",
      "---  ------                      --------------  -----         \n",
      " 0   Patient_ID                  2936 non-null   int64         \n",
      " 1   Date_of_Birth               2936 non-null   datetime64[ns]\n",
      " 2   Gender                      2936 non-null   int64         \n",
      " 3   Legal_Requirements          2936 non-null   category      \n",
      " 4   Privacy_Regulations         2936 non-null   category      \n",
      " 5   Data_Ownership              2936 non-null   object        \n",
      " 6   Security_Risks              2936 non-null   object        \n",
      " 7   Access_Control              2936 non-null   object        \n",
      " 8   Punishments_for_Violations  2936 non-null   object        \n",
      " 9   Proprietary_Tools           2936 non-null   object        \n",
      " 10  User_Access_Procedures      2936 non-null   object        \n",
      " 11  Last_Visit                  2936 non-null   object        \n",
      " 12  Age                         2936 non-null   int64         \n",
      "dtypes: category(2), datetime64[ns](1), int64(3), object(7)\n",
      "memory usage: 258.6+ KB\n"
     ]
    }
   ],
   "source": [
    "df.info()"
   ]
  },
  {
   "cell_type": "code",
   "execution_count": 10,
   "metadata": {},
   "outputs": [
    {
     "name": "stdout",
     "output_type": "stream",
     "text": [
      "Legal_Requirements     ['HIPAA Compliance', 'GDPR Compliance', 'International Standards', 'Local Data Protection Laws']\n",
      "Categories (4, object): ['GDPR Compliance', 'HIPAA Compliance', 'International Standards', 'Local Data Protection Laws']\n",
      "Privacy_Regulations     ['Confidentiality Agreements', 'Anonymization', 'Data Encryption Standards', 'Access Restrictions']\n",
      "Categories (4, object): ['Access Restrictions', 'Anonymization', 'Confidentiality Agreements', 'Data Encryption Standards']\n",
      "Data_Ownership     ['Healthcare Provider' 'Shared' 'Patient' 'Healthcare Organization']\n",
      "Security_Risks     ['Unauthorized Access' 'Data Corruption' 'Data Breach' 'Phishing Attacks']\n",
      "Access_Control     ['Discretionary Access Control' 'Attribute-Based Access Control'\n",
      " 'Role-Based Access Control']\n",
      "Punishments_for_Violations     ['Fines' 'Revocation of Access' 'Legal Action' 'Reputational Damage']\n",
      "Proprietary_Tools     ['Secure Messaging Platforms' 'Proprietary EHR Systems'\n",
      " 'Compliance Monitoring Tools' 'Encryption Software']\n",
      "User_Access_Procedures     ['Access Logs' 'Two-Factor Authentication' 'Secure Login' 'User Training']\n",
      "Label Encoded Data:\n",
      "   Legal_Requirements  Privacy_Regulations  Data_Ownership  Security_Risks  \\\n",
      "0                   1                    2               1               3   \n",
      "1                   0                    1               3               1   \n",
      "2                   2                    2               2               0   \n",
      "3                   2                    1               2               3   \n",
      "4                   1                    3               3               0   \n",
      "\n",
      "   Access_Control  Punishments_for_Violations  Proprietary_Tools  \\\n",
      "0               1                           0                  3   \n",
      "1               1                           3                  2   \n",
      "2               1                           3                  3   \n",
      "3               1                           0                  3   \n",
      "4               0                           0                  3   \n",
      "\n",
      "   User_Access_Procedures  Patient_ID Date_of_Birth  Gender  Last_Visit  Age  \n",
      "0                       0        1881    1971-07-04       1  2022-11-25   53  \n",
      "1                       2        2899    1937-11-24       0  2023-01-02   86  \n",
      "2                       0        1204    1942-01-02       0  2023-10-25   82  \n",
      "3                       1        2407    1944-11-18       1  2023-01-11   79  \n",
      "4                       3         966    1951-07-22       0  2023-09-28   73  \n"
     ]
    }
   ],
   "source": [
    "\n",
    "\n",
    "categorical_columns = [\n",
    "    'Legal_Requirements', 'Privacy_Regulations', 'Data_Ownership', \n",
    "    'Security_Risks', 'Access_Control', 'Punishments_for_Violations', \n",
    "    'Proprietary_Tools', 'User_Access_Procedures'\n",
    "]\n",
    "\n",
    "#check the unique values in each columns\n",
    "for i in df[categorical_columns]:\n",
    "  print(i + '    ',df[categorical_columns][i].unique())\n",
    "\n",
    "# Define the columns that don't need one-hot encoding\n",
    "non_categorical_columns = [col for col in df.columns if col not in categorical_columns]\n",
    "label_encoders = {}\n",
    "\n",
    "for col in categorical_columns:\n",
    "    le = LabelEncoder()\n",
    "    df[col] = le.fit_transform(df[col])\n",
    "    label_encoders[col] = le\n",
    "\n",
    "encoded_columns = categorical_columns\n",
    "all_columns = encoded_columns + non_categorical_columns\n",
    "\n",
    "df_encoded = df[all_columns]\n",
    "\n",
    "print(\"Label Encoded Data:\")\n",
    "print(df_encoded.head())\n"
   ]
  },
  {
   "cell_type": "code",
   "execution_count": 11,
   "metadata": {},
   "outputs": [],
   "source": [
    "df_encoded['Last_Visit'] = pd.to_datetime(df_encoded['Last_Visit'], format='%Y-%m-%d')"
   ]
  },
  {
   "cell_type": "code",
   "execution_count": 12,
   "metadata": {},
   "outputs": [
    {
     "name": "stdout",
     "output_type": "stream",
     "text": [
      "\n",
      "Data Types After Conversion:\n",
      "Legal_Requirements                     int64\n",
      "Privacy_Regulations                    int64\n",
      "Data_Ownership                         int64\n",
      "Security_Risks                         int64\n",
      "Access_Control                         int64\n",
      "Punishments_for_Violations             int64\n",
      "Proprietary_Tools                      int64\n",
      "User_Access_Procedures                 int64\n",
      "Patient_ID                             int64\n",
      "Date_of_Birth                 datetime64[ns]\n",
      "Gender                                 int64\n",
      "Last_Visit                    datetime64[ns]\n",
      "Age                                    int64\n",
      "dtype: object\n"
     ]
    }
   ],
   "source": [
    "print(\"\\nData Types After Conversion:\")\n",
    "print(df_encoded.dtypes)"
   ]
  },
  {
   "cell_type": "code",
   "execution_count": 13,
   "metadata": {},
   "outputs": [
    {
     "name": "stdout",
     "output_type": "stream",
     "text": [
      "\n",
      "Data Summary After Preprocessing:\n",
      "       Legal_Requirements  Privacy_Regulations  Data_Ownership  \\\n",
      "count         2936.000000          2936.000000     2936.000000   \n",
      "mean             1.464918             1.488079        1.485695   \n",
      "min              0.000000             0.000000        0.000000   \n",
      "25%              0.000000             0.000000        0.000000   \n",
      "50%              1.000000             1.000000        1.000000   \n",
      "75%              2.000000             2.000000        2.000000   \n",
      "max              3.000000             3.000000        3.000000   \n",
      "std              1.111867             1.116331        1.116303   \n",
      "\n",
      "       Security_Risks  Access_Control  Punishments_for_Violations  \\\n",
      "count     2936.000000     2936.000000                 2936.000000   \n",
      "mean         1.543597        0.979564                    1.478542   \n",
      "min          0.000000        0.000000                    0.000000   \n",
      "25%          1.000000        0.000000                    0.000000   \n",
      "50%          2.000000        1.000000                    1.000000   \n",
      "75%          3.000000        2.000000                    3.000000   \n",
      "max          3.000000        2.000000                    3.000000   \n",
      "std          1.132518        0.805597                    1.128332   \n",
      "\n",
      "       Proprietary_Tools  User_Access_Procedures   Patient_ID  \\\n",
      "count        2936.000000             2936.000000  2936.000000   \n",
      "mean            1.466281                1.509877  1512.935627   \n",
      "min             0.000000                0.000000     1.000000   \n",
      "25%             0.000000                0.000000   760.750000   \n",
      "50%             1.000000                2.000000  1516.500000   \n",
      "75%             2.000000                3.000000  2290.250000   \n",
      "max             3.000000                3.000000  2999.000000   \n",
      "std             1.110989                1.129399   873.052306   \n",
      "\n",
      "                       Date_of_Birth       Gender  \\\n",
      "count                           2936  2936.000000   \n",
      "mean   1970-05-22 11:32:32.043596730     0.481948   \n",
      "min              1933-09-06 00:00:00     0.000000   \n",
      "25%              1951-12-20 00:00:00     0.000000   \n",
      "50%              1970-04-21 12:00:00     0.000000   \n",
      "75%              1988-10-02 18:00:00     1.000000   \n",
      "max              2006-08-26 00:00:00     1.000000   \n",
      "std                              NaN     0.499759   \n",
      "\n",
      "                          Last_Visit          Age  \n",
      "count                           2936  2936.000000  \n",
      "mean   2023-08-27 13:50:50.681198848    53.816076  \n",
      "min              2022-08-28 00:00:00    18.000000  \n",
      "25%              2023-02-24 18:00:00    35.000000  \n",
      "50%              2023-08-30 00:00:00    54.000000  \n",
      "75%              2024-02-25 00:00:00    72.000000  \n",
      "max              2024-08-27 00:00:00    91.000000  \n",
      "std                              NaN    21.209354  \n"
     ]
    }
   ],
   "source": [
    "print(\"\\nData Summary After Preprocessing:\")\n",
    "print(df_encoded.describe())"
   ]
  },
  {
   "cell_type": "code",
   "execution_count": 14,
   "metadata": {},
   "outputs": [
    {
     "data": {
      "text/html": [
       "<div>\n",
       "<style scoped>\n",
       "    .dataframe tbody tr th:only-of-type {\n",
       "        vertical-align: middle;\n",
       "    }\n",
       "\n",
       "    .dataframe tbody tr th {\n",
       "        vertical-align: top;\n",
       "    }\n",
       "\n",
       "    .dataframe thead th {\n",
       "        text-align: right;\n",
       "    }\n",
       "</style>\n",
       "<table border=\"1\" class=\"dataframe\">\n",
       "  <thead>\n",
       "    <tr style=\"text-align: right;\">\n",
       "      <th></th>\n",
       "      <th>Legal_Requirements</th>\n",
       "      <th>Privacy_Regulations</th>\n",
       "      <th>Data_Ownership</th>\n",
       "      <th>Security_Risks</th>\n",
       "      <th>Access_Control</th>\n",
       "      <th>Punishments_for_Violations</th>\n",
       "      <th>Proprietary_Tools</th>\n",
       "      <th>User_Access_Procedures</th>\n",
       "      <th>Patient_ID</th>\n",
       "      <th>Date_of_Birth</th>\n",
       "      <th>Gender</th>\n",
       "      <th>Last_Visit</th>\n",
       "      <th>Age</th>\n",
       "    </tr>\n",
       "  </thead>\n",
       "  <tbody>\n",
       "    <tr>\n",
       "      <th>0</th>\n",
       "      <td>1</td>\n",
       "      <td>2</td>\n",
       "      <td>1</td>\n",
       "      <td>3</td>\n",
       "      <td>1</td>\n",
       "      <td>0</td>\n",
       "      <td>3</td>\n",
       "      <td>0</td>\n",
       "      <td>1881</td>\n",
       "      <td>1971-07-04</td>\n",
       "      <td>1</td>\n",
       "      <td>2022-11-25</td>\n",
       "      <td>53</td>\n",
       "    </tr>\n",
       "    <tr>\n",
       "      <th>1</th>\n",
       "      <td>0</td>\n",
       "      <td>1</td>\n",
       "      <td>3</td>\n",
       "      <td>1</td>\n",
       "      <td>1</td>\n",
       "      <td>3</td>\n",
       "      <td>2</td>\n",
       "      <td>2</td>\n",
       "      <td>2899</td>\n",
       "      <td>1937-11-24</td>\n",
       "      <td>0</td>\n",
       "      <td>2023-01-02</td>\n",
       "      <td>86</td>\n",
       "    </tr>\n",
       "    <tr>\n",
       "      <th>2</th>\n",
       "      <td>2</td>\n",
       "      <td>2</td>\n",
       "      <td>2</td>\n",
       "      <td>0</td>\n",
       "      <td>1</td>\n",
       "      <td>3</td>\n",
       "      <td>3</td>\n",
       "      <td>0</td>\n",
       "      <td>1204</td>\n",
       "      <td>1942-01-02</td>\n",
       "      <td>0</td>\n",
       "      <td>2023-10-25</td>\n",
       "      <td>82</td>\n",
       "    </tr>\n",
       "    <tr>\n",
       "      <th>3</th>\n",
       "      <td>2</td>\n",
       "      <td>1</td>\n",
       "      <td>2</td>\n",
       "      <td>3</td>\n",
       "      <td>1</td>\n",
       "      <td>0</td>\n",
       "      <td>3</td>\n",
       "      <td>1</td>\n",
       "      <td>2407</td>\n",
       "      <td>1944-11-18</td>\n",
       "      <td>1</td>\n",
       "      <td>2023-01-11</td>\n",
       "      <td>79</td>\n",
       "    </tr>\n",
       "    <tr>\n",
       "      <th>4</th>\n",
       "      <td>1</td>\n",
       "      <td>3</td>\n",
       "      <td>3</td>\n",
       "      <td>0</td>\n",
       "      <td>0</td>\n",
       "      <td>0</td>\n",
       "      <td>3</td>\n",
       "      <td>3</td>\n",
       "      <td>966</td>\n",
       "      <td>1951-07-22</td>\n",
       "      <td>0</td>\n",
       "      <td>2023-09-28</td>\n",
       "      <td>73</td>\n",
       "    </tr>\n",
       "  </tbody>\n",
       "</table>\n",
       "</div>"
      ],
      "text/plain": [
       "   Legal_Requirements  Privacy_Regulations  Data_Ownership  Security_Risks  \\\n",
       "0                   1                    2               1               3   \n",
       "1                   0                    1               3               1   \n",
       "2                   2                    2               2               0   \n",
       "3                   2                    1               2               3   \n",
       "4                   1                    3               3               0   \n",
       "\n",
       "   Access_Control  Punishments_for_Violations  Proprietary_Tools  \\\n",
       "0               1                           0                  3   \n",
       "1               1                           3                  2   \n",
       "2               1                           3                  3   \n",
       "3               1                           0                  3   \n",
       "4               0                           0                  3   \n",
       "\n",
       "   User_Access_Procedures  Patient_ID Date_of_Birth  Gender Last_Visit  Age  \n",
       "0                       0        1881    1971-07-04       1 2022-11-25   53  \n",
       "1                       2        2899    1937-11-24       0 2023-01-02   86  \n",
       "2                       0        1204    1942-01-02       0 2023-10-25   82  \n",
       "3                       1        2407    1944-11-18       1 2023-01-11   79  \n",
       "4                       3         966    1951-07-22       0 2023-09-28   73  "
      ]
     },
     "execution_count": 14,
     "metadata": {},
     "output_type": "execute_result"
    }
   ],
   "source": [
    "df_encoded.head()"
   ]
  },
  {
   "cell_type": "code",
   "execution_count": 15,
   "metadata": {},
   "outputs": [],
   "source": [
    "df_encoded.to_csv('ehl_data_label_encoded.csv', index=False)"
   ]
  },
  {
   "cell_type": "markdown",
   "metadata": {},
   "source": [
    "## Train the model"
   ]
  },
  {
   "cell_type": "code",
   "execution_count": 16,
   "metadata": {},
   "outputs": [
    {
     "name": "stdout",
     "output_type": "stream",
     "text": [
      "Training set features shape: (2348, 12)\n",
      "Testing set features shape: (588, 12)\n",
      "Training set target shape: (2348,)\n",
      "Testing set target shape: (588,)\n"
     ]
    }
   ],
   "source": [
    "df_encoded = pd.read_csv('ehl_data_label_encoded.csv')\n",
    "# Convert Date_of_Birth and Last_Visit to numeric features\n",
    "df_encoded['Date_of_Birth'] = pd.to_datetime(df_encoded['Date_of_Birth'])\n",
    "df_encoded['Last_Visit'] = pd.to_datetime(df_encoded['Last_Visit'])\n",
    "\n",
    "# Convert dates to the number of days since the earliest date in the dataset\n",
    "reference_date = pd.to_datetime('1900-01-01')\n",
    "df_encoded['Days_Since_Birth'] = (df_encoded['Date_of_Birth'] - reference_date).dt.days\n",
    "df_encoded['Days_Since_Last_Visit'] = (df_encoded['Last_Visit'] - reference_date).dt.days\n",
    "\n",
    "# Drop the original date columns\n",
    "df_encoded = df_encoded.drop(columns=['Date_of_Birth', 'Last_Visit'])\n",
    "X = df_encoded.drop(columns=['Age'])\n",
    "y = df_encoded['Age']\n",
    "\n",
    "X_train, X_test, y_train, y_test = train_test_split(X, y, test_size=0.2, random_state=42)\n",
    "\n",
    "# Display the shapes of the resulting sets\n",
    "print(f\"Training set features shape: {X_train.shape}\")\n",
    "print(f\"Testing set features shape: {X_test.shape}\")\n",
    "print(f\"Training set target shape: {y_train.shape}\")\n",
    "print(f\"Testing set target shape: {y_test.shape}\")\n"
   ]
  },
  {
   "cell_type": "code",
   "execution_count": 17,
   "metadata": {},
   "outputs": [
    {
     "name": "stdout",
     "output_type": "stream",
     "text": [
      "<class 'pandas.core.frame.DataFrame'>\n",
      "Index: 2348 entries, 456 to 860\n",
      "Data columns (total 12 columns):\n",
      " #   Column                      Non-Null Count  Dtype\n",
      "---  ------                      --------------  -----\n",
      " 0   Legal_Requirements          2348 non-null   int64\n",
      " 1   Privacy_Regulations         2348 non-null   int64\n",
      " 2   Data_Ownership              2348 non-null   int64\n",
      " 3   Security_Risks              2348 non-null   int64\n",
      " 4   Access_Control              2348 non-null   int64\n",
      " 5   Punishments_for_Violations  2348 non-null   int64\n",
      " 6   Proprietary_Tools           2348 non-null   int64\n",
      " 7   User_Access_Procedures      2348 non-null   int64\n",
      " 8   Patient_ID                  2348 non-null   int64\n",
      " 9   Gender                      2348 non-null   int64\n",
      " 10  Days_Since_Birth            2348 non-null   int64\n",
      " 11  Days_Since_Last_Visit       2348 non-null   int64\n",
      "dtypes: int64(12)\n",
      "memory usage: 238.5 KB\n"
     ]
    }
   ],
   "source": [
    "X_train.info()"
   ]
  },
  {
   "cell_type": "code",
   "execution_count": 18,
   "metadata": {},
   "outputs": [
    {
     "data": {
      "image/png": "[encoded data removed]",
      "text/plain": [
       "<Figure size 1000x700 with 15 Axes>"
      ]
     },
     "metadata": {},
     "output_type": "display_data"
    }
   ],
   "source": [
    "import seaborn as sns\n",
    "num_col = [col for col in df_encoded.columns if df_encoded[col].dtype != 'object']\n",
    "\n",
    "#plot the distribution plots for the integers to get information of their distributions\n",
    "fig, axes = plt.subplots(5, 3, figsize=(10,7))\n",
    "axes = axes.flatten()\n",
    "\n",
    "for i, var in enumerate(num_col):\n",
    "    sns.histplot(df_encoded[var], kde = True, ax=axes[i])\n",
    "    axes[i].set_title(f\"Distribution of {var} column\")\n",
    "plt.tight_layout()\n",
    "plt.show();"
   ]
  },
  {
   "cell_type": "code",
   "execution_count": 21,
   "metadata": {},
   "outputs": [
    {
     "name": "stdout",
     "output_type": "stream",
     "text": [
      "Anomaly Detection Results:\n",
      "      Legal_Requirements  Privacy_Regulations  Data_Ownership  Security_Risks  \\\n",
      "1446                   1                    1               3               3   \n",
      "1451                   2                    0               0               0   \n",
      "1239                   2                    0               3               0   \n",
      "177                    0                    2               3               2   \n",
      "1088                   1                    1               1               2   \n",
      "\n",
      "      Access_Control  Punishments_for_Violations  Proprietary_Tools  \\\n",
      "1446               0                           1                  0   \n",
      "1451               2                           3                  3   \n",
      "1239               0                           3                  3   \n",
      "177                1                           3                  1   \n",
      "1088               1                           1                  0   \n",
      "\n",
      "      User_Access_Procedures  Patient_ID  Gender  Days_Since_Birth  \\\n",
      "1446                       3         889       0             23138   \n",
      "1451                       2        1618       1             16963   \n",
      "1239                       3        2587       0             37591   \n",
      "177                        1        1639       0             28469   \n",
      "1088                       1        2976       0             15481   \n",
      "\n",
      "      Days_Since_Last_Visit  Anomaly_Score  Prediction  \n",
      "1446                  45065      -0.048479          -1  \n",
      "1451                  45334      -0.076038          -1  \n",
      "1239                  45237      -0.088252          -1  \n",
      "177                   45120      -0.013705          -1  \n",
      "1088                  45413      -0.037516          -1  \n"
     ]
    }
   ],
   "source": [
    "# Initialize the Isolation Forest model\n",
    "model = IsolationForest(n_estimators=100, contamination='auto', random_state=42)\n",
    "\n",
    "# Fit the model to the training data\n",
    "model.fit(X_train)\n",
    "\n",
    "# Predict anomaly scores on the test set\n",
    "anomaly_scores = model.decision_function(X_test)\n",
    "predictions = model.predict(X_test)\n",
    "\n",
    "# Convert predictions to a more interpretable format (1 for normal, -1 for anomaly)\n",
    "predictions = [1 if p == 1 else -1 for p in predictions]\n",
    "\n",
    "# Add the anomaly scores and predictions to the test set DataFrame\n",
    "X_test_with_scores = X_test.copy()\n",
    "X_test_with_scores['Anomaly_Score'] = anomaly_scores\n",
    "X_test_with_scores['Prediction'] = predictions\n",
    "\n",
    "print(\"Anomaly Detection Results:\")\n",
    "print(X_test_with_scores.head())"
   ]
  },
  {
   "cell_type": "code",
   "execution_count": 23,
   "metadata": {},
   "outputs": [
    {
     "data": {
      "text/html": [
       "<div>\n",
       "<style scoped>\n",
       "    .dataframe tbody tr th:only-of-type {\n",
       "        vertical-align: middle;\n",
       "    }\n",
       "\n",
       "    .dataframe tbody tr th {\n",
       "        vertical-align: top;\n",
       "    }\n",
       "\n",
       "    .dataframe thead th {\n",
       "        text-align: right;\n",
       "    }\n",
       "</style>\n",
       "<table border=\"1\" class=\"dataframe\">\n",
       "  <thead>\n",
       "    <tr style=\"text-align: right;\">\n",
       "      <th></th>\n",
       "      <th>Legal_Requirements</th>\n",
       "      <th>Privacy_Regulations</th>\n",
       "      <th>Data_Ownership</th>\n",
       "      <th>Security_Risks</th>\n",
       "      <th>Access_Control</th>\n",
       "      <th>Punishments_for_Violations</th>\n",
       "      <th>Proprietary_Tools</th>\n",
       "      <th>User_Access_Procedures</th>\n",
       "      <th>Patient_ID</th>\n",
       "      <th>Gender</th>\n",
       "      <th>Age</th>\n",
       "      <th>Days_Since_Birth</th>\n",
       "      <th>Days_Since_Last_Visit</th>\n",
       "    </tr>\n",
       "  </thead>\n",
       "  <tbody>\n",
       "    <tr>\n",
       "      <th>0</th>\n",
       "      <td>1</td>\n",
       "      <td>2</td>\n",
       "      <td>1</td>\n",
       "      <td>3</td>\n",
       "      <td>1</td>\n",
       "      <td>0</td>\n",
       "      <td>3</td>\n",
       "      <td>0</td>\n",
       "      <td>1881</td>\n",
       "      <td>1</td>\n",
       "      <td>53</td>\n",
       "      <td>26116</td>\n",
       "      <td>44888</td>\n",
       "    </tr>\n",
       "    <tr>\n",
       "      <th>1</th>\n",
       "      <td>0</td>\n",
       "      <td>1</td>\n",
       "      <td>3</td>\n",
       "      <td>1</td>\n",
       "      <td>1</td>\n",
       "      <td>3</td>\n",
       "      <td>2</td>\n",
       "      <td>2</td>\n",
       "      <td>2899</td>\n",
       "      <td>0</td>\n",
       "      <td>86</td>\n",
       "      <td>13841</td>\n",
       "      <td>44926</td>\n",
       "    </tr>\n",
       "    <tr>\n",
       "      <th>2</th>\n",
       "      <td>2</td>\n",
       "      <td>2</td>\n",
       "      <td>2</td>\n",
       "      <td>0</td>\n",
       "      <td>1</td>\n",
       "      <td>3</td>\n",
       "      <td>3</td>\n",
       "      <td>0</td>\n",
       "      <td>1204</td>\n",
       "      <td>0</td>\n",
       "      <td>82</td>\n",
       "      <td>15341</td>\n",
       "      <td>45222</td>\n",
       "    </tr>\n",
       "    <tr>\n",
       "      <th>3</th>\n",
       "      <td>2</td>\n",
       "      <td>1</td>\n",
       "      <td>2</td>\n",
       "      <td>3</td>\n",
       "      <td>1</td>\n",
       "      <td>0</td>\n",
       "      <td>3</td>\n",
       "      <td>1</td>\n",
       "      <td>2407</td>\n",
       "      <td>1</td>\n",
       "      <td>79</td>\n",
       "      <td>16392</td>\n",
       "      <td>44935</td>\n",
       "    </tr>\n",
       "    <tr>\n",
       "      <th>4</th>\n",
       "      <td>1</td>\n",
       "      <td>3</td>\n",
       "      <td>3</td>\n",
       "      <td>0</td>\n",
       "      <td>0</td>\n",
       "      <td>0</td>\n",
       "      <td>3</td>\n",
       "      <td>3</td>\n",
       "      <td>966</td>\n",
       "      <td>0</td>\n",
       "      <td>73</td>\n",
       "      <td>18829</td>\n",
       "      <td>45195</td>\n",
       "    </tr>\n",
       "  </tbody>\n",
       "</table>\n",
       "</div>"
      ],
      "text/plain": [
       "   Legal_Requirements  Privacy_Regulations  Data_Ownership  Security_Risks  \\\n",
       "0                   1                    2               1               3   \n",
       "1                   0                    1               3               1   \n",
       "2                   2                    2               2               0   \n",
       "3                   2                    1               2               3   \n",
       "4                   1                    3               3               0   \n",
       "\n",
       "   Access_Control  Punishments_for_Violations  Proprietary_Tools  \\\n",
       "0               1                           0                  3   \n",
       "1               1                           3                  2   \n",
       "2               1                           3                  3   \n",
       "3               1                           0                  3   \n",
       "4               0                           0                  3   \n",
       "\n",
       "   User_Access_Procedures  Patient_ID  Gender  Age  Days_Since_Birth  \\\n",
       "0                       0        1881       1   53             26116   \n",
       "1                       2        2899       0   86             13841   \n",
       "2                       0        1204       0   82             15341   \n",
       "3                       1        2407       1   79             16392   \n",
       "4                       3         966       0   73             18829   \n",
       "\n",
       "   Days_Since_Last_Visit  \n",
       "0                  44888  \n",
       "1                  44926  \n",
       "2                  45222  \n",
       "3                  44935  \n",
       "4                  45195  "
      ]
     },
     "execution_count": 23,
     "metadata": {},
     "output_type": "execute_result"
    }
   ],
   "source": [
    "df_encoded.head()"
   ]
  },
  {
   "cell_type": "code",
   "execution_count": 24,
   "metadata": {},
   "outputs": [
    {
     "data": {
      "text/plain": [
       "array(['Access Logs', 'Secure Login', 'Two-Factor Authentication',\n",
       "       'User Training'], dtype=object)"
      ]
     },
     "execution_count": 24,
     "metadata": {},
     "output_type": "execute_result"
    }
   ],
   "source": [
    "le.classes_"
   ]
  },
  {
   "cell_type": "code",
   "execution_count": 30,
   "metadata": {},
   "outputs": [
    {
     "data": {
      "text/plain": [
       "(588, 12)"
      ]
     },
     "execution_count": 30,
     "metadata": {},
     "output_type": "execute_result"
    }
   ],
   "source": [
    "X_test.shape"
   ]
  },
  {
   "cell_type": "code",
   "execution_count": null,
   "metadata": {},
   "outputs": [],
   "source": [
    "# Initialize and train the Naive Bayes model\n",
    "model = GaussianNB()\n",
    "model.fit(X_train, y_train)\n",
    "\n",
    "# Predict the classes on the test set\n",
    "y_pred = model.predict(X_test)\n",
    "\n",
    "# Get the unique classes from y_test\n",
    "unique_classes = sorted(set(y_test))\n",
    "\n",
    "# Print classification report to evaluate the model\n",
    "print(classification_report(y_test, y_pred, target_names=le.classes_, labels=unique_classes))"
   ]
  },
  {
   "cell_type": "code",
   "execution_count": null,
   "metadata": {},
   "outputs": [],
   "source": [
    "nltk.download('stopwords')\n",
    "nltk.download('punkt')"
   ]
  },
  {
   "cell_type": "code",
   "execution_count": null,
   "metadata": {},
   "outputs": [],
   "source": [
    "new_df = pd.read_csv('ehl_data.csv')"
   ]
  },
  {
   "cell_type": "code",
   "execution_count": null,
   "metadata": {},
   "outputs": [],
   "source": [
    "stop_words = set(stopwords.words('english'))\n",
    "\n",
    "def preprocess_text(text):\n",
    "    text = re.sub(r'\\W', ' ', text)  # Remove non-word characters\n",
    "    text = text.lower()  # Convert to lower case\n",
    "    text = re.sub(r'\\s+', ' ', text)  # Remove extra spaces\n",
    "    tokens = word_tokenize(text)  # Tokenize\n",
    "    tokens = [word for word in tokens if word not in stop_words]  # Remove stopwords\n",
    "    return ' '.join(tokens)\n",
    "\n",
    "# Combine the text fields into one column\n",
    "new_df['Text'] = new_df.apply(lambda row: f\"{row['Legal_Requirements']} {row['Privacy_Regulations']} {row['Data_Ownership']} {row['Security_Risks']}\", axis=1)\n",
    "new_df['Text'] = new_df['Text'].apply(preprocess_text)\n",
    "new_df['Text']"
   ]
  },
  {
   "cell_type": "code",
   "execution_count": null,
   "metadata": {},
   "outputs": [],
   "source": [
    "# Labels\n",
    "y = new_df['Legal_Requirements']\n",
    "\n",
    "# Encode the labels\n",
    "label_encoder = LabelEncoder()\n",
    "y_encoded = label_encoder.fit_transform(y)\n",
    "class_labels = label_encoder.classes_\n",
    "\n",
    "# Vectorize the text data\n",
    "vectorizer = CountVectorizer()\n",
    "X = vectorizer.fit_transform(new_df['Text'])\n"
   ]
  },
  {
   "cell_type": "code",
   "execution_count": null,
   "metadata": {},
   "outputs": [],
   "source": [
    "# Step 2: Calculate the prior probability of each class in D\n",
    "multi_model = MultinomialNB()\n",
    "multi_model.fit(X, y_encoded)"
   ]
  },
  {
   "cell_type": "code",
   "execution_count": null,
   "metadata": {},
   "outputs": [],
   "source": [
    "\n",
    "# Step 3: Predict the class for a new text T\n",
    "# Example new text T\n",
    "T = [\"HIPAA data encryption and unauthorized access\"]\n",
    "\n",
    "# Preprocess T\n",
    "T_preprocessed = [preprocess_text(t) for t in T]\n",
    "T_vectorized = vectorizer.transform(T_preprocessed)\n",
    "\n",
    "# Calculate the likelihood and posterior probabilities\n",
    "predicted_class_index = multi_model.predict(T_vectorized)\n",
    "predicted_class = label_encoder.inverse_transform(predicted_class_index)\n",
    "\n",
    "# Output the predicted class\n",
    "print(f\"Predicted class for T: {predicted_class[0]}\")"
   ]
  },
  {
   "cell_type": "code",
   "execution_count": null,
   "metadata": {},
   "outputs": [],
   "source": [
    "# To inspect the probability distribution\n",
    "probs = multi_model.predict_proba(T_vectorized)\n",
    "prob_df = pd.DataFrame(probs, columns=class_labels)\n",
    "print(prob_df)"
   ]
  },
  {
   "cell_type": "markdown",
   "metadata": {},
   "source": [
    "### SVM Model"
   ]
  },
  {
   "cell_type": "code",
   "execution_count": null,
   "metadata": {},
   "outputs": [],
   "source": [
    "ehl = pd.read_csv(\"/Users/ikubannipaul/Documents/codes/data_science/ml/evaxion/python_analysis/new_ehl_data.csv\")\n",
    "\n",
    "ehl.head()"
   ]
  },
  {
   "cell_type": "code",
   "execution_count": null,
   "metadata": {},
   "outputs": [],
   "source": [
    "ehl[\"User_Is_Authenticated\"].value_counts()"
   ]
  },
  {
   "cell_type": "code",
   "execution_count": null,
   "metadata": {},
   "outputs": [],
   "source": [
    "from sklearn.preprocessing import LabelEncoder"
   ]
  },
  {
   "cell_type": "code",
   "execution_count": null,
   "metadata": {},
   "outputs": [],
   "source": [
    "ehl.columns"
   ]
  },
  {
   "cell_type": "code",
   "execution_count": null,
   "metadata": {},
   "outputs": [],
   "source": [
    "le = LabelEncoder()\n",
    "ehl[\"Gender\"] = le.fit_transform(ehl[\"Gender\"])\n",
    "ehl[\"Legal_Requirements\"] = le.fit_transform(ehl[\"Legal_Requirements\"])\n",
    "ehl[\"Privacy_Regulations\"] = le.fit_transform(ehl[\"Privacy_Regulations\"])\n",
    "ehl[\"Data_Ownership\"] = le.fit_transform(ehl[\"Data_Ownership\"])\n",
    "ehl[\"Security_Risks\"] = le.fit_transform(ehl[\"Security_Risks\"])\n",
    "ehl[\"Access_Control\"] = le.fit_transform(ehl[\"Access_Control\"])\n",
    "ehl[\"Punishments_for_Violations\"] = le.fit_transform(ehl[\"Punishments_for_Violations\"])\n",
    "ehl[\"Proprietary_Tools\"] = le.fit_transform(ehl['Proprietary_Tools'])\n",
    "ehl[\"User_Access_Procedures\"] = le.fit_transform(ehl[\"User_Access_Procedures\"])"
   ]
  },
  {
   "cell_type": "code",
   "execution_count": null,
   "metadata": {},
   "outputs": [],
   "source": [
    "ehl[\"User_Is_Authenticated\"] = ehl[\"User_Is_Authenticated\"].map({'Not Authenticated':0, 'Authentication':1})"
   ]
  },
  {
   "cell_type": "code",
   "execution_count": null,
   "metadata": {},
   "outputs": [],
   "source": [
    "ehl.head()"
   ]
  },
  {
   "cell_type": "code",
   "execution_count": null,
   "metadata": {},
   "outputs": [],
   "source": [
    "X = ehl.drop(columns=[\"Date_of_Birth\", \"Patient_Name\", \"Patient_ID\", \"Last_Visit\", \"User_Is_Authenticated\"])\n",
    "y = ehl[\"User_Is_Authenticated\"]"
   ]
  },
  {
   "cell_type": "code",
   "execution_count": null,
   "metadata": {},
   "outputs": [],
   "source": [
    "#feature selection\n",
    "from sklearn.feature_selection import SelectKBest, chi2\n",
    "selector = SelectKBest(chi2, k = 5)\n",
    "X_train_selected = selector.fit_transform(X_train, y_train)\n",
    "X_test_selected = selector.transform(X_test)\n",
    "\n",
    "svm = SVC(kernel='linear',)\n",
    "svm.fit(X_train_selected, y_train)\n",
    "\n",
    "pre_new = svm.predict(X_test_selected)\n",
    "acc1 = accuracy_score(y_test, pre_new)\n",
    "\n",
    "acc1"
   ]
  },
  {
   "cell_type": "code",
   "execution_count": null,
   "metadata": {},
   "outputs": [],
   "source": [
    "from sklearn.feature_selection import mutual_info_classif\n",
    "\n",
    "\n",
    "scaler = StandardScaler()\n",
    "X_train_scaled = scaler.fit_transform(X_train)\n",
    "X_test_scaled = scaler.transform(X_test)\n",
    "\n",
    "# Feature selection\n",
    "selector = SelectKBest(mutual_info_classif, k=5)\n",
    "X_train_selected = selector.fit_transform(X_train_scaled, y_train)\n",
    "X_test_selected = selector.transform(X_test_scaled)\n",
    "\n",
    "# Train Isolation Forest\n",
    "isolation_forest = IsolationForest(contamination=0.1, n_estimators=200, max_samples='auto', random_state=42)\n",
    "isolation_forest.fit(X_train_selected)\n",
    "\n",
    "# Predict on the test set\n",
    "iso_pre_new = isolation_forest.predict(X_test_selected)\n",
    "\n",
    "# Convert predictions to binary labels (1 for inliers, 0 for outliers)\n",
    "iso_pre_new_binary = [1 if x == 1 else 0 for x in iso_pre_new]\n",
    "\n",
    "# Convert y_test to binary labels (assuming y_test contains 1 for inliers and 0 for outliers)\n",
    "y_test_binary = [1 if x == 1 else 0 for x in y_test]\n",
    "\n",
    "# Calculate accuracy\n",
    "acc1 = accuracy_score(y_test_binary, iso_pre_new_binary)\n",
    "\n",
    "acc1"
   ]
  },
  {
   "cell_type": "code",
   "execution_count": null,
   "metadata": {},
   "outputs": [],
   "source": [
    "from sklearn.feature_selection import SelectKBest, mutual_info_classif\n",
    "from sklearn.ensemble import IsolationForest\n",
    "from sklearn.metrics import accuracy_score, confusion_matrix\n",
    "from sklearn.preprocessing import StandardScaler\n",
    "import seaborn as sns\n",
    "import matplotlib.pyplot as plt\n",
    "from sklearn.model_selection import GridSearchCV\n",
    "\n",
    "# Standardize the data\n",
    "scaler = StandardScaler()\n",
    "X_train_scaled = scaler.fit_transform(X_train)\n",
    "X_test_scaled = scaler.transform(X_test)\n",
    "\n",
    "# Feature selection using mutual information\n",
    "selector = SelectKBest(mutual_info_classif, k=5)\n",
    "X_train_selected = selector.fit_transform(X_train_scaled, y_train)\n",
    "X_test_selected = selector.transform(X_test_scaled)\n",
    "\n",
    "# Hyperparameter tuning for Isolation Forest\n",
    "param_grid = {\n",
    "    'contamination': [0.05, 0.1, 0.15],\n",
    "    'n_estimators': [100, 200, 300],\n",
    "    'max_samples': ['auto', 0.8, 0.9],\n",
    "    'max_features': [1.0, 0.8, 0.9]\n",
    "}\n",
    "\n",
    "isolation_forest = IsolationForest(random_state=42)\n",
    "grid_search = GridSearchCV(isolation_forest, param_grid, cv=5, scoring='accuracy')\n",
    "grid_search.fit(X_train_selected, y_train)\n",
    "\n",
    "# Best model from grid search\n",
    "best_isolation_forest = grid_search.best_estimator_\n",
    "\n",
    "# Predict on the test set\n",
    "iso_pre_new = best_isolation_forest.predict(X_test_selected)\n",
    "\n",
    "# Convert predictions to binary labels (1 for inliers, 0 for outliers)\n",
    "iso_pre_new_binary = [1 if x == 1 else 0 for x in iso_pre_new]\n",
    "\n",
    "# Convert y_test to binary labels (assuming y_test contains 1 for inliers and 0 for outliers)\n",
    "y_test_binary = [1 if x == 1 else 0 for x in y_test]\n",
    "\n",
    "# Calculate accuracy\n",
    "acc3 = accuracy_score(y_test_binary, iso_pre_new_binary)\n",
    "acc3\n",
    "\n"
   ]
  },
  {
   "cell_type": "code",
   "execution_count": null,
   "metadata": {},
   "outputs": [],
   "source": []
  },
  {
   "cell_type": "code",
   "execution_count": null,
   "metadata": {},
   "outputs": [],
   "source": [
    "svm_conf = confusion_matrix(pre_new, y_test)\n",
    "print(f\"Confusion Matrix For {svm_conf}\")"
   ]
  },
  {
   "cell_type": "code",
   "execution_count": null,
   "metadata": {},
   "outputs": [],
   "source": [
    "sns.heatmap(svm_conf, annot=False)\n",
    "plt.title('Confusion Matrix of SVM')"
   ]
  },
  {
   "cell_type": "code",
   "execution_count": null,
   "metadata": {},
   "outputs": [],
   "source": [
    "\n",
    "y_prob_svm = svm.predict_proba(X_test)[:,1]"
   ]
  },
  {
   "cell_type": "code",
   "execution_count": null,
   "metadata": {},
   "outputs": [],
   "source": [
    "#Evaluate SVM model\n",
    "def calc_spec_sens(y_true, y_pred):\n",
    "    cm = confusion_matrix(y_true, y_pred)\n",
    "    tn, fp, fn, tp = cm.ravel()\n",
    "    sensitivity = tp/(tp + fn) \n",
    "    specificity = tn/(tn + fp)\n",
    "    return sensitivity, specificity\n",
    "# sens_svm , spec_svm = calc_spec_sens(y_test, pre_new)\n",
    "svm_auc = roc_auc_score(y_test, )\n"
   ]
  },
  {
   "cell_type": "code",
   "execution_count": null,
   "metadata": {},
   "outputs": [],
   "source": [
    "fpr, tpr, thresholds = roc_curve(y_test, y_prob_svm)\n",
    "\n",
    "plt.figure(figsize=(8,6))\n",
    "plt.plot(fpr, tpr, color='blue', lw=2, label = 'ROC curve (AUC = {:.2f})'.format(svm_auc))\n",
    "plt.plot([0, 1], [0, 1], color='red', linestyle='--')\n",
    "plt.xlim([0.0, 1.0])\n",
    "plt.ylim([0.0, 1.05])\n",
    "plt.xlabel('False Positive Rate')\n",
    "plt.ylabel('True Positive Rate')\n",
    "plt.title(\"Receiver Operating Characteristic (ROC) Curve for SVM\")\n",
    "plt.legend(loc = 'lower right')\n",
    "plt.show()"
   ]
  },
  {
   "cell_type": "code",
   "execution_count": null,
   "metadata": {},
   "outputs": [],
   "source": [
    "from sklearn.tree import DecisionTreeClassifier\n",
    "\n",
    "dt = DecisionTreeClassifier()\n",
    "model = dt.fit(X_train, y_train)\n",
    "pre4 = model.predict(X_test)\n",
    "acc = accuracy_score(pre4, y_test)\n",
    "print(acc)"
   ]
  },
  {
   "cell_type": "code",
   "execution_count": null,
   "metadata": {},
   "outputs": [],
   "source": [
    "from sklearn.feature_selection import SelectKBest, chi2\n",
    "from sklearn.naive_bayes import GaussianNB\n",
    "from sklearn.metrics import accuracy_score\n",
    "\n",
    "# Feature selection\n",
    "selector = SelectKBest(chi2, k=5)\n",
    "X_train_selected = selector.fit_transform(X_train, y_train)\n",
    "X_test_selected = selector.transform(X_test)\n",
    "\n",
    "# Train Naive Bayes\n",
    "naive_bayes = GaussianNB()\n",
    "naive_bayes.fit(X_train_selected, y_train)\n",
    "\n",
    "# Predict on the test set\n",
    "nb_pre_new = naive_bayes.predict(X_test_selected)\n",
    "\n",
    "# Calculate accuracy\n",
    "acc2 = accuracy_score(y_test, nb_pre_new)\n",
    "\n",
    "acc2"
   ]
  },
  {
   "cell_type": "code",
   "execution_count": null,
   "metadata": {},
   "outputs": [],
   "source": [
    "X_test"
   ]
  },
  {
   "cell_type": "code",
   "execution_count": null,
   "metadata": {},
   "outputs": [],
   "source": [
    "y_prob_nb = naive_bayes.predict_proba(X_test)[:,1]\n",
    "y_prob_nb"
   ]
  },
  {
   "cell_type": "code",
   "execution_count": null,
   "metadata": {},
   "outputs": [],
   "source": [
    "import pickle\n",
    "pickle.dump(isolation_forest, open('isolation_forest.pkl', 'wb'))\n",
    "pickle.dump(svm, open('svm.pkl', 'wb'))\n",
    "pickle.dump(naive_bayes, open('naive_bayes.pkl', 'wb'))\n"
   ]
  },
  {
   "cell_type": "code",
   "execution_count": null,
   "metadata": {},
   "outputs": [],
   "source": [
    "# Calculate confusion matrix\n",
    "cm = confusion_matrix(y_test, nb_pre_new)\n",
    "\n",
    "# Display confusion matrix\n",
    "plt.figure(figsize=(10, 7))\n",
    "sns.heatmap(cm, annot=False, fmt='d', cmap='Blues')\n",
    "plt.xlabel('Predicted')\n",
    "plt.ylabel('Actual')\n",
    "plt.title('Confusion Matrix for Naive Bayes Model')\n",
    "plt.show()"
   ]
  },
  {
   "cell_type": "code",
   "execution_count": null,
   "metadata": {},
   "outputs": [],
   "source": [
    "# Calculate confusion matrix\n",
    "cm_iso = confusion_matrix(y_test_binary, iso_pre_new_binary)\n",
    "\n",
    "# Display confusion matrix\n",
    "plt.figure(figsize=(10, 7))\n",
    "sns.heatmap(cm_iso, annot=True, fmt='d', cmap='Blues')\n",
    "plt.xlabel('Predicted')\n",
    "plt.ylabel('Actual')\n",
    "plt.title('Confusion Matrix for Isolation Forest Model')\n",
    "plt.show()\n",
    "\n",
    "acc1"
   ]
  },
  {
   "cell_type": "code",
   "execution_count": null,
   "metadata": {},
   "outputs": [],
   "source": [
    "#feature selection\n",
    "from sklearn.feature_selection import SelectKBest, chi2\n",
    "selector = SelectKBest(chi2, k = 5)\n",
    "X_train_selected = selector.fit_transform(X_train, y_train)\n",
    "X_test_selected = selector.transform(X_test)\n",
    "\n",
    "svm = SVC(kernel='linear', C=1)\n",
    "svm.fit(X_train_selected, y_train)\n",
    "\n",
    "pre_new = svm.predict(X_test_selected)\n",
    "acc1 = accuracy_score(y_test, pre_new)\n",
    "\n",
    "acc1"
   ]
  },
  {
   "cell_type": "code",
   "execution_count": null,
   "metadata": {},
   "outputs": [],
   "source": [
    "#feature selection\n",
    "from sklearn.feature_selection import SelectKBest, chi2\n",
    "selector = SelectKBest(chi2, k = 5)\n",
    "X_train_selected = selector.fit_transform(X_train, y_train)\n",
    "X_test_selected = selector.transform(X_test)\n",
    "\n",
    "svm = SVC(kernel='linear', C=1)\n",
    "svm.fit(X_train_selected, y_train)\n",
    "\n",
    "pre_new = svm.predict(X_test_selected)\n",
    "acc1 = accuracy_score(y_test, pre_new)\n",
    "\n",
    "acc1"
   ]
  }
 ],
 "metadata": {
  "kernelspec": {
   "display_name": "evaxion",
   "language": "python",
   "name": "python3"
  },
  "language_info": {
   "codemirror_mode": {
    "name": "ipython",
    "version": 3
   },
   "file_extension": ".py",
   "mimetype": "text/x-python",
   "name": "python",
   "nbconvert_exporter": "python",
   "pygments_lexer": "ipython3",
   "version": "3.9.19"
  }
 },
 "nbformat": 4,
 "nbformat_minor": 2
}
